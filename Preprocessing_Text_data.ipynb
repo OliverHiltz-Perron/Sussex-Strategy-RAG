{
 "cells": [
  {
   "cell_type": "code",
   "execution_count": 2,
   "metadata": {},
   "outputs": [],
   "source": [
    "from dotenv import load_dotenv\n",
    "load_dotenv()\n",
    "\n",
    "from llama_parse import LlamaParse\n",
    "from llama_index.core import SimpleDirectoryReader\n",
    "\n",
    "import pandas as pd"
   ]
  },
  {
   "cell_type": "code",
   "execution_count": 1,
   "metadata": {},
   "outputs": [
    {
     "ename": "NameError",
     "evalue": "name 'LlamaParse' is not defined",
     "output_type": "error",
     "traceback": [
      "\u001b[1;31m---------------------------------------------------------------------------\u001b[0m",
      "\u001b[1;31mNameError\u001b[0m                                 Traceback (most recent call last)",
      "Cell \u001b[1;32mIn[1], line 3\u001b[0m\n\u001b[0;32m      1\u001b[0m \u001b[38;5;66;03m# Setting up Parser and Reader\u001b[39;00m\n\u001b[1;32m----> 3\u001b[0m parser \u001b[38;5;241m=\u001b[39m LlamaParse(\n\u001b[0;32m      4\u001b[0m     result_type\u001b[38;5;241m=\u001b[39m\u001b[38;5;124m'\u001b[39m\u001b[38;5;124mmarkdown\u001b[39m\u001b[38;5;124m'\u001b[39m,\n\u001b[0;32m      5\u001b[0m )\n\u001b[0;32m      7\u001b[0m reader \u001b[38;5;241m=\u001b[39m SimpleDirectoryReader(input_dir\u001b[38;5;241m=\u001b[39m\u001b[38;5;124m\"\u001b[39m\u001b[38;5;124mOriginal_Documents\u001b[39m\u001b[38;5;124m\"\u001b[39m, num_files_limit\u001b[38;5;241m=\u001b[39m\u001b[38;5;241m2\u001b[39m)\n\u001b[0;32m      8\u001b[0m processed_files \u001b[38;5;241m=\u001b[39m []\n",
      "\u001b[1;31mNameError\u001b[0m: name 'LlamaParse' is not defined"
     ]
    }
   ],
   "source": [
    "# Setting up Parser and Reader\n",
    "\n",
    "parser = LlamaParse(\n",
    "    result_type='markdown',\n",
    ")\n",
    "\n",
    "reader = SimpleDirectoryReader(input_dir=\"Original_Documents\", num_files_limit=2)\n",
    "processed_files = []\n",
    "\n",
    "documents = reader.load_data()\n",
    "\n",
    "print(documents)\n",
    "\n",
    "# for docs in reader.iter_data():\n",
    "    \n",
    "\n",
    "# df = pd.DataFrame(processed_files)\n",
    "\n",
    "# print(df.head())"
   ]
  }
 ],
 "metadata": {
  "kernelspec": {
   "display_name": "Sussex-Strategy",
   "language": "python",
   "name": "python3"
  },
  "language_info": {
   "codemirror_mode": {
    "name": "ipython",
    "version": 3
   },
   "file_extension": ".py",
   "mimetype": "text/x-python",
   "name": "python",
   "nbconvert_exporter": "python",
   "pygments_lexer": "ipython3",
   "version": "3.12.7"
  }
 },
 "nbformat": 4,
 "nbformat_minor": 2
}
