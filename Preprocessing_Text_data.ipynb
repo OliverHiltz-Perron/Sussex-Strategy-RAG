{
 "cells": [
  {
   "cell_type": "code",
   "execution_count": 1,
   "metadata": {},
   "outputs": [],
   "source": [
    "from dotenv import load_dotenv\n",
    "load_dotenv()\n",
    "\n",
    "from llama_parse import LlamaParse\n",
    "from llama_index.core import SimpleDirectoryReader\n",
    "\n",
    "import pandas as pd"
   ]
  },
  {
   "cell_type": "code",
   "execution_count": null,
   "metadata": {},
   "outputs": [],
   "source": [
    "# Reading Dataframe from the pickle file to manipulate the data\n",
    "df = pd.read_pickle(\"Markdown_Documents.pkl\")"
   ]
  },
  {
   "cell_type": "code",
   "execution_count": null,
   "metadata": {},
   "outputs": [
    {
     "name": "stdout",
     "output_type": "stream",
     "text": [
      "      Filenames                                               Text\n",
      "0   00a03_e.doc  # Arthur Wishart Act (Franchise Disclosure), 2...\n",
      "9   00c01_e.doc  # Christopher’s Law (Sex Offender Registry), 2...\n",
      "19  00c43_e.doc  # City of Kawartha Lakes Act, 2000\\n\\n# S.O. 2...\n",
      "24  00d34_e.doc  # Deaf-Blind Awareness Month Act, 2000\\n\\n# S....\n",
      "25  00e17_e.doc  # Electronic Commerce Act, 2000\\n\\n# S.O. 2000...\n"
     ]
    }
   ],
   "source": [
    "# Combining the text of the same file after parsing\n",
    "df['Text'] = df.groupby(['Filenames'])['Text'].transform(lambda x: '\\n'.join(x))\n",
    "\n",
    "df = df.drop_duplicates()\n",
    "\n",
    "print(df.head())"
   ]
  },
  {
   "cell_type": "code",
   "execution_count": 11,
   "metadata": {},
   "outputs": [
    {
     "name": "stdout",
     "output_type": "stream",
     "text": [
      "      Filenames                                               Text\n",
      "0   00a03_e.doc  # Arthur Wishart Act (Franchise Disclosure), 2...\n",
      "9   00c01_e.doc  # Christopher’s Law (Sex Offender Registry), 2...\n",
      "19  00c43_e.doc  # City of Kawartha Lakes Act, 2000\\n\\n# S.O. 2...\n",
      "24  00d34_e.doc  # Deaf-Blind Awareness Month Act, 2000\\n\\n# S....\n",
      "25  00e17_e.doc  # Electronic Commerce Act, 2000\\n\\n# S.O. 2000...\n"
     ]
    }
   ],
   "source": [
    "print(df.head())\n",
    "\n",
    "# Ensuring Document is complete\n",
    "with open(\"Markdown_Document(CURR_LAST).md\", \"w\") as f:\n",
    "    f.write(df[\"Text\"].loc[df.index[61]])"
   ]
  },
  {
   "cell_type": "code",
   "execution_count": null,
   "metadata": {},
   "outputs": [],
   "source": [
    "# Saving the cleaned data to a pickle file\n",
    "df.to_pickle(\"Markdown_Documents_CLEAN.pkl\")"
   ]
  },
  {
   "cell_type": "code",
   "execution_count": null,
   "metadata": {},
   "outputs": [
    {
     "name": "stdout",
     "output_type": "stream",
     "text": [
      "62\n"
     ]
    }
   ],
   "source": [
    "# Check how many files have been cleaned\n",
    "print(len(df['Filenames']))"
   ]
  },
  {
   "cell_type": "markdown",
   "metadata": {},
   "source": [
    "# **Begin Search for Energy Indicators**"
   ]
  },
  {
   "cell_type": "code",
   "execution_count": 12,
   "metadata": {},
   "outputs": [],
   "source": [
    "dfClean = pd.read_pickle(\"Markdown_Documents_CLEAN.pkl\")"
   ]
  },
  {
   "cell_type": "markdown",
   "metadata": {},
   "source": [
    "## Mentions Energy"
   ]
  },
  {
   "cell_type": "code",
   "execution_count": null,
   "metadata": {},
   "outputs": [
    {
     "name": "stdout",
     "output_type": "stream",
     "text": [
      "       Filenames                                               Text\n",
      "19   00c43_e.doc  # City of Kawartha Lakes Act, 2000\\n\\n# S.O. 2...\n",
      "104  00t16_e.doc  # Technical Standards and Safety Act, 2000\\n\\n...\n",
      "270  02c30_e.doc  # Consumer Protection Act, 2002\\n\\n# S.O. 2002...\n",
      "401  02h03_e.doc  # Français\\n\\n# Hydro One Inc. Directors and O...\n"
     ]
    }
   ],
   "source": [
    "dfCleanEnergy = dfClean[dfClean['Text'].str.contains(\"energy\", case=False)]\n",
    "\n",
    "print(dfCleanEnergy.head())\n",
    "print(len(dfCleanEnergy['Filenames']))"
   ]
  }
 ],
 "metadata": {
  "kernelspec": {
   "display_name": "Sussex-Strategy",
   "language": "python",
   "name": "python3"
  },
  "language_info": {
   "codemirror_mode": {
    "name": "ipython",
    "version": 3
   },
   "file_extension": ".py",
   "mimetype": "text/x-python",
   "name": "python",
   "nbconvert_exporter": "python",
   "pygments_lexer": "ipython3",
   "version": "3.12.7"
  }
 },
 "nbformat": 4,
 "nbformat_minor": 2
}
