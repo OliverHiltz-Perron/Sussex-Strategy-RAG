{
 "cells": [
  {
   "cell_type": "markdown",
   "id": "eaa9be0b-907a-4859-9e38-5cc6a92442c1",
   "metadata": {},
   "source": [
    "Jina AI: (repo can be found at https://github.com/jina-ai/serve) \\\n",
    "Use r.jina.ai to read any URL and convert into LLM-friendly text - this includes:\n",
    "* Title & URL specified\n",
    "* Subheadings specified by ** Subheading ** with all text expanded and written below\n",
    "* Hyperlinks are expanded into full URL (useful for document cross-referencing)\\\n",
    "  \n",
    "Note that headings are *not* removed"
   ]
  },
  {
   "cell_type": "code",
   "execution_count": null,
   "id": "42b256f0-32fb-4c3a-8c9b-66a8ee73bfe1",
   "metadata": {},
   "outputs": [],
   "source": [
    "# Access Jina API\n",
    "# Give specific URL\n",
    "# Extract .txt file (?) from markdown file at https://r.jina.ai/URL\n",
    "# Implement simple text-parse algorithm"
   ]
  },
  {
   "cell_type": "code",
   "execution_count": null,
   "id": "63d08a98-ae9b-49f3-881b-fc798ee4a0fb",
   "metadata": {},
   "outputs": [],
   "source": [
    "pip install jina"
   ]
  },
  {
   "cell_type": "code",
   "execution_count": null,
   "id": "828217c4-8c98-46b9-8d1c-e96b9b6ddf32",
   "metadata": {},
   "outputs": [],
   "source": [
    "#page = 'https://www.ontario.ca/laws-beta/statute/90p13'\n",
    "page = 'https://www.ontario.ca/laws-beta/statute/10n22?highlight=false&lang=en&option=%7B%22selection%22%3A%5B%22current%22%5D%2C%22result%22%3A%5B%22statute%22%2C%22regulation%22%5D%7D&paging=%7B%22page%22%3A1%2C%22pageSize%22%3A50%2C%22sort%22%3A%22AZ%22%7D&searchMode=browse&searchWithin=%5B%22title%22%2C%22body%22%5D&searchWithinResult=false&selection=consolidated+law&text=&trigger=1&useExact=false&withinResultSearch='\n",
    "\n",
    "api_key = 'jina_8d00676eed0f40f7a3cf174ede7a3efb0la7fUvEW2SSm4Cuk5Eao8nZ5Dtt'\n",
    "\n",
    "key_words = {\"energy\", \"environment\"}"
   ]
  },
  {
   "cell_type": "code",
   "execution_count": null,
   "id": "23179d2a-8772-4918-af74-7bf560a0fea9",
   "metadata": {},
   "outputs": [],
   "source": [
    "# Cell execution time for single article - 33 seconds\n",
    "import requests\n",
    "\n",
    "url = 'https://r.jina.ai/' + page\n",
    "\n",
    "headers = {\n",
    "    'Authorization': 'Bearer ' + api_key     # Specific API key gives higher rate limit\n",
    "}\n",
    "\n",
    "response = requests.get(url, headers=headers)\n",
    "\n",
    "count = sum(response.text.count(word) for word in key_words)\n",
    "\n",
    "if count > 10:\n",
    "    print(response.text)\n"
   ]
  },
  {
   "cell_type": "code",
   "execution_count": null,
   "id": "61dccda6-d8f2-4eb3-a4c8-7661450f417a",
   "metadata": {},
   "outputs": [],
   "source": []
  }
 ],
 "metadata": {
  "kernelspec": {
   "display_name": "Python 3 (ipykernel)",
   "language": "python",
   "name": "python3"
  },
  "language_info": {
   "codemirror_mode": {
    "name": "ipython",
    "version": 3
   },
   "file_extension": ".py",
   "mimetype": "text/x-python",
   "name": "python",
   "nbconvert_exporter": "python",
   "pygments_lexer": "ipython3",
   "version": "3.10.14"
  }
 },
 "nbformat": 4,
 "nbformat_minor": 5
}
