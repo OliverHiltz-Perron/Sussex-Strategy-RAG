{
 "cells": [
  {
   "cell_type": "markdown",
   "id": "eaa9be0b-907a-4859-9e38-5cc6a92442c1",
   "metadata": {},
   "source": [
    "Jina AI: (repo can be found at https://github.com/jina-ai/serve) \\\n",
    "Use r.jina.ai to read any URL and convert into LLM-friendly text - this includes:\n",
    "* Title & URL specified\n",
    "* Subheadings specified by ** Subheading ** with all text expanded and written below\n",
    "* Hyperlinks are expanded into full URL (useful for document cross-referencing)\\\n",
    "  \n",
    "Note that headings are *not* removed"
   ]
  },
  {
   "cell_type": "markdown",
   "id": "c7556db2-3e56-458e-ac63-740e9909807b",
   "metadata": {},
   "source": [
    "All cells run on Python. Standard Python URL parsing uses requests.\\\n",
    "Using cache helps (a) reduce the number of API keys being used in the cases where tokens may be limited and (b) reduce run time in cases where the same page is often fetched (would be the case for the files containing elementary environmental legislation.)"
   ]
  },
  {
   "cell_type": "code",
   "execution_count": null,
   "id": "63d08a98-ae9b-49f3-881b-fc798ee4a0fb",
   "metadata": {},
   "outputs": [],
   "source": [
    "import requests\n",
    "from functools import cache"
   ]
  },
  {
   "cell_type": "code",
   "execution_count": null,
   "id": "828217c4-8c98-46b9-8d1c-e96b9b6ddf32",
   "metadata": {},
   "outputs": [],
   "source": [
    "# Below is a list of all the URLs provided in the task description. The one uncommented does indeed refer to environmental legislation.\n",
    "\n",
    "# Ministry of Energy Act, 2011, S.O. 2011, c. 9, Sched. 25 \n",
    "# url = 'https://www.ontario.ca/laws-beta/statute/11m09a?highlight=true&lang=en&option=%7B%22selection%22%3A%5B%22current%22%5D%2C%22result%22%3A%5B%22statute%22%2C%22regulation%22%5D%7D&paging=%7B%22page%22%3A1%2C%22pageSize%22%3A50%2C%22sort%22%3A%22Relevance%22%7D&searchMode=search&searchWithin=%5B%22title%22%2C%22body%22%5D&searchWithinResult=false&selection=consolidated+law&text=Energy&trigger=0&useExact=false&withinResultSearch='\n",
    "\n",
    "#Environmental Protection Act, R.S.O. 1990, c. E.19\n",
    "# url = 'https://www.ontario.ca/laws-beta/statute/10e08?highlight=false&lang=en&option=%7B%22selection%22%3A%5B%22current%22%5D%2C%22result%22%3A%5B%22statute%22%2C%22regulation%22%5D%7D&paging=%7B%22page%22%3A1%2C%22pageSize%22%3A50%2C%22sort%22%3A%22AZ%22%7D&searchMode=browse&searchWithin=%5B%22title%22%2C%22body%22%5D&searchWithinResult=false&selection=consolidated+law&text=&trigger=1&useExact=false&withinResultSearch='\n",
    "\n",
    "# Keeping Polystyrene Out of Ontario's Lakes and Rivers Act, 2021, S.O. 2021, c. 16 \n",
    "# url = 'https://www.ontario.ca/laws-beta/statute/21k16?highlight=false&lang=en&option=%7B%22selection%22%3A%5B%22current%22%5D%2C%22result%22%3A%5B%22statute%22%2C%22regulation%22%5D%7D&paging=%7B%22page%22%3A1%2C%22pageSize%22%3A50%2C%22sort%22%3A%22AZ%22%7D&searchMode=browse&searchWithin=%5B%22title%22%2C%22body%22%5D&searchWithinResult=false&selection=consolidated+law&text=&trigger=1&useExact=false&withinResultSearch='\n",
    "\n",
    "# Ministry of Agriculture, Food and Rural Affairs Act, R.S.O. 1990, c. M.16 \n",
    "# url = 'https://www.ontario.ca/laws-beta/statute/90m16?highlight=false&lang=en&option=%7B%22selection%22%3A%5B%22current%22%5D%2C%22result%22%3A%5B%22statute%22%5D%7D&paging=%7B%22page%22%3A1%2C%22pageSize%22%3A50%2C%22sort%22%3A%22AZ%22%7D&searchMode=browse&searchWithin=%5B%22title%22%2C%22body%22%5D&searchWithinResult=false&selection=consolidated+law&text=&trigger=0&useExact=false&withinResultSearch='\n",
    "\n",
    "# Electricity Act, 1998, S.O. 1998, c. 15, Sched. A  \n",
    "# url = 'https://www.ontario.ca/laws-beta/statute/98e15?highlight=false&lang=en&option=%7B%22selection%22%3A%5B%22current%22%5D%2C%22result%22%3A%5B%22statute%22%2C%22regulation%22%5D%7D&paging=%7B%22page%22%3A1%2C%22pageSize%22%3A50%2C%22sort%22%3A%22AZ%22%7D&searchMode=browse&searchWithin=%5B%22title%22%2C%22body%22%5D&searchWithinResult=false&selection=consolidated+law&text=&trigger=1&useExact=false&withinResultSearch=#act-verion'\n",
    "\n",
    "# Planning Act, R.S.O. 1990, c. P.13\n",
    "# Count = 33\n",
    "url = 'https://www.ontario.ca/laws-beta/statute/90p13'\n",
    "\n",
    "# # Ministry of the Environment Act, R.S.O. 1990, c. M.24  \n",
    "# url = 'https://www.ontario.ca/laws-beta/statute/90m24?highlight=true&lang=en&option=%7B%22selection%22%3A%5B%22current%22%5D%2C%22result%22%3A%5B%22statute%22%5D%7D&paging=%7B%22page%22%3A1%2C%22pageSize%22%3A50%2C%22sort%22%3A%22Relevance%22%7D&searchMode=search&searchWithin=%5B%22title%22%2C%22body%22%5D&searchWithinResult=false&selection=consolidated+law&text=environment&trigger=1&useExact=false&withinResultSearch='\n",
    "\n",
    "# #Narcotics Safety and Awareness Act, 2010, S.O. 2010, c. 22\n",
    "# url = 'https://www.ontario.ca/laws-beta/statute/10n22?highlight=false&lang=en&option=%7B%22selection%22%3A%5B%22current%22%5D%2C%22result%22%3A%5B%22statute%22%2C%22regulation%22%5D%7D&paging=%7B%22page%22%3A1%2C%22pageSize%22%3A50%2C%22sort%22%3A%22AZ%22%7D&searchMode=browse&searchWithin=%5B%22title%22%2C%22body%22%5D&searchWithinResult=false&selection=consolidated+law&text=&trigger=1&useExact=false&withinResultSearch='\n",
    "\n",
    "key_words = {\"energy\", \"environment\"}"
   ]
  },
  {
   "cell_type": "code",
   "execution_count": null,
   "id": "2e0cfd9f-3d72-4480-bfc0-38bdd9b5d1e9",
   "metadata": {},
   "outputs": [],
   "source": []
  },
  {
   "cell_type": "markdown",
   "id": "d40add98-ee7a-4a60-bf05-5545e64c5302",
   "metadata": {},
   "source": [
    "The below page request runs on Jina AI. Jina limits free API keys to 1,000,000 tokens, meaning that a few calls of the below exhaust capacity. It is a very reliable page parser and returns legible and necessary data, but is restricted by this property."
   ]
  },
  {
   "cell_type": "code",
   "execution_count": null,
   "id": "6b5f9d94-e9df-4cb2-b1b2-816344835ee7",
   "metadata": {},
   "outputs": [],
   "source": [
    "!pip install jina"
   ]
  },
  {
   "cell_type": "code",
   "execution_count": null,
   "id": "23179d2a-8772-4918-af74-7bf560a0fea9",
   "metadata": {},
   "outputs": [],
   "source": [
    "# Cell execution time for single article - 22 seconds counting filtering - reduced to ~2 with cacheing\n",
    "\n",
    "\n",
    "#api_key = 'jina_8d00676eed0f40f7a3cf174ede7a3efb0la7fUvEW2SSm4Cuk5Eao8nZ5Dtt'\n",
    "# api_key = 'jina_2c94c91a6898439f9ff9b0f4434843eaWYxj-lcdXzqblO8k3VhAIoLCUnWh' # new key - use wisely \n",
    "\n",
    "@cache\n",
    "def fetch(url):\n",
    "    jina_url = 'https://r.jina.ai/' + url\n",
    "    # headers = {\n",
    "    #     'Authorization': 'Bearer ' + api_key     # Specific API key gives higher rate limit\n",
    "    # }\n",
    "    # response = requests.get(jina_url, headers=headers)\n",
    "    response = requests.get(jina_url, headers=None)\n",
    "    return response.text"
   ]
  },
  {
   "cell_type": "code",
   "execution_count": null,
   "id": "8d55dafd-3b40-45b4-89c9-1d863402dc3f",
   "metadata": {},
   "outputs": [],
   "source": [
    "print(fetch(url))"
   ]
  },
  {
   "cell_type": "code",
   "execution_count": null,
   "id": "37ead43d-a5f4-4326-b112-65757dc1c614",
   "metadata": {},
   "outputs": [],
   "source": [
    "import re\n",
    "\n",
    "def filter(url):\n",
    "    readable = fetch(url)\n",
    "    # count = sum(readable.count(word) for word in key_words)\n",
    "    \n",
    "    c = re.compile(r'\\b(' + '|'.join(key_words) + r')\\b', re.IGNORECASE)\n",
    "    for line in readable.splitlines():\n",
    "        if c.search(line):\n",
    "            print(line)\n",
    "    # if count > 5:\n",
    "    #     print(count)\n",
    "    #     print(readable)"
   ]
  },
  {
   "cell_type": "code",
   "execution_count": null,
   "id": "529b2bdb-e758-45c1-8c7f-791c03f0d27d",
   "metadata": {},
   "outputs": [],
   "source": [
    "filter(url)"
   ]
  },
  {
   "cell_type": "markdown",
   "id": "d8f76787-7fc7-41de-be72-761def6c3b5d",
   "metadata": {},
   "source": [
    "Alternative method uses standard Python Scrapy library. The problem with this library is that it is markdown-specific, so will return JSON only for the specified attributes. This is not portable across the range of legal files."
   ]
  },
  {
   "cell_type": "code",
   "execution_count": null,
   "id": "3b8cbe04-0998-4060-a7b7-00b147653fbc",
   "metadata": {},
   "outputs": [],
   "source": [
    "!pip install scrapy"
   ]
  },
  {
   "cell_type": "code",
   "execution_count": null,
   "id": "61dccda6-d8f2-4eb3-a4c8-7661450f417a",
   "metadata": {},
   "outputs": [],
   "source": [
    "@cache\n",
    "def fetch(url):\n",
    "    response = requests.get(url)\n",
    "    return response.text\n",
    "\n",
    "print(fetch(url))    "
   ]
  },
  {
   "cell_type": "markdown",
   "id": "e2667352-ba77-46c4-a461-81395b9fc945",
   "metadata": {},
   "source": [
    "Llama, similar to Jina AI, is an API-based scraper that limits pages to 1000 per day (it is targeted to PDF scraping rather than web-based) and temporarily stores files for download before converting to readable format. \\\n",
    "Really does not work great."
   ]
  },
  {
   "cell_type": "code",
   "execution_count": null,
   "id": "214a07f3-16c5-4586-9cd9-3bd5f0b11ed4",
   "metadata": {},
   "outputs": [],
   "source": [
    "#Using LlamaParse\n",
    "!pip install llama-index-core llama-index-readers-web html2text\n",
    "api_key = 'llx-QsLfJvb2bc4M0bspacSTeDNjt0lBeFf6uAevXEYm30OKrflz'"
   ]
  },
  {
   "cell_type": "code",
   "execution_count": null,
   "id": "77c5eab9-110a-4fff-85ac-41bbe5ef1709",
   "metadata": {},
   "outputs": [],
   "source": [
    "# For AI-specific web scraping: https://docs.llamaindex.ai/en/stable/examples/data_connectors/WebPageDemo/\n",
    "\n",
    "from llama_index.readers.remote import RemoteReader\n",
    "from llama_index.core import SummaryIndex\n",
    "from llama_index.readers.web import SimpleWebPageReader\n",
    "from IPython.display import Markdown, HTML, display\n",
    "import os\n",
    "\n",
    "# loader = RemoteReader()\n",
    "# documents = loader.load_data(\n",
    "#     url=url\n",
    "# )\n",
    "\n",
    "documents = SimpleWebPageReader(html_to_text=True).load_data(\n",
    "    [url]\n",
    ")\n",
    "# documents[0]\n",
    "# index = SummaryIndex.from_documents(documents)\n",
    "display(Markdown(f\"{documents}\"))\n",
    "\n",
    "# print(documents)"
   ]
  },
  {
   "cell_type": "markdown",
   "id": "d519810f-6992-4cb7-91f5-e799d8bd8850",
   "metadata": {},
   "source": [
    "Spider is the recommended (?) mode of web-crawling but also uses its own API and those keys cost money."
   ]
  },
  {
   "cell_type": "markdown",
   "id": "6df807e6-9f62-4ba0-bc24-a1eb64d79354",
   "metadata": {},
   "source": [
    "**BeautifulSoup** is a well-known manual web-scraping page. \n",
    "It has to use **Selenium** to simulate a JavaScript environment."
   ]
  },
  {
   "cell_type": "code",
   "execution_count": null,
   "id": "85472ea1-be46-4a65-90d1-04d8eee64ea4",
   "metadata": {},
   "outputs": [],
   "source": [
    "!pip install beautifulsoup4\n",
    "!pip install selenium"
   ]
  },
  {
   "cell_type": "code",
   "execution_count": null,
   "id": "1fbff896-8fdb-431c-9875-883a2953d79e",
   "metadata": {},
   "outputs": [],
   "source": [
    "from bs4 import BeautifulSoup\n",
    "from selenium import webdriver\n",
    "from selenium.webdriver.common.by import By\n",
    "from selenium.webdriver.chrome.service import Service\n",
    "from selenium.webdriver.support.ui import WebDriverWait\n",
    "from selenium.webdriver.support import expected_conditions as EC\n",
    "# from urllib.request import urlopen\n",
    "\n",
    "service = Service()\n",
    "options = webdriver.ChromeOptions()\n",
    "options.add_argument(\"--headless=new\")\n",
    "driver = webdriver.Chrome(service=service, options=options)\n",
    "\n",
    "driver.get(url)\n",
    "selector = '#law-content > div > div.laws-document__act-content'\n",
    "WebDriverWait(driver, 30).until(\n",
    "    EC.presence_of_all_elements_located((By.CSS_SELECTOR, selector))\n",
    ")\n",
    "\n",
    "html = driver.page_source\n",
    "\n",
    "soup = BeautifulSoup(html, 'html.parser')\n",
    "\n",
    "print(soup.prettify())\n",
    "\n",
    "driver.quit()\n",
    "#-----------------------------------------------------\n",
    "\n",
    "# driver = webdriver.Chrome()       #Specify exe path?\n",
    "# driver.get(url)\n",
    "\n",
    "# driver.implicitly_wait(20)\n",
    "\n",
    "# html = driver.page_source\n",
    "\n",
    "# # Parse with Beautiful Soup\n",
    "# soup = BeautifulSoup(html, 'html.parser')\n",
    "\n",
    "# # Now you can work with `soup`\n",
    "# print(soup.prettify())\n",
    "\n",
    "# # Close the browser\n",
    "# driver.quit()\n",
    "\n",
    "#---------------------------------------\n",
    "\n",
    "# page = urlopen(url)\n",
    "# html = page.read().decode(\"utf-8\")\n",
    "# soup = BeautifulSoup(html, \"html.parser\")\n",
    "\n",
    "# print(soup.get_text())"
   ]
  }
 ],
 "metadata": {
  "kernelspec": {
   "display_name": "Python 3 (ipykernel)",
   "language": "python",
   "name": "python3"
  },
  "language_info": {
   "codemirror_mode": {
    "name": "ipython",
    "version": 3
   },
   "file_extension": ".py",
   "mimetype": "text/x-python",
   "name": "python",
   "nbconvert_exporter": "python",
   "pygments_lexer": "ipython3",
   "version": "3.10.14"
  }
 },
 "nbformat": 4,
 "nbformat_minor": 5
}
